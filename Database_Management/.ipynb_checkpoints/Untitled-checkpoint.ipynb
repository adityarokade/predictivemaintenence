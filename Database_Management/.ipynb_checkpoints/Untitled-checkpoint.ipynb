{
 "cells": [
  {
   "cell_type": "code",
   "execution_count": 3,
   "metadata": {},
   "outputs": [
    {
     "name": "stdout",
     "output_type": "stream",
     "text": [
      "4.0.0.6816\n"
     ]
    }
   ],
   "source": [
    "\n",
    "cloud_config= {\n",
    "        'secure_connect_bundle':'secure-connect-predictive-maintenence.zip'\n",
    "}\n",
    "auth_provider = PlainTextAuthProvider('TwftYiLLzOPdWfCjSuKRWGcj', 'N30vWjycqEiRHlUq7-q.gC5bHLM0xfUWmB_S5W8zoBNjzGZCOta1M3ZIbPLun3mPkypoG7d9CmBop40acOX1ZhTXc+ipoBh7IT_umeDwZS8sj4+Ki9nXAw0,Wc72pX,H')\n",
    "cluster = Cluster(cloud=cloud_config, auth_provider=auth_provider)\n",
    "session = cluster.connect()\n",
    "\n",
    "row = session.execute(\"select release_version from system.local\").one()\n",
    "if row:\n",
    "    print(row[0])\n",
    "else:\n",
    "    print(\"An error occurred.\")"
   ]
  },
  {
   "cell_type": "code",
   "execution_count": 2,
   "metadata": {},
   "outputs": [],
   "source": [
    "from cassandra.cluster import Cluster\n",
    "from cassandra.auth import PlainTextAuthProvider\n"
   ]
  },
  {
   "cell_type": "code",
   "execution_count": 2,
   "metadata": {
    "collapsed": true
   },
   "outputs": [
    {
     "name": "stdout",
     "output_type": "stream",
     "text": [
      "Collecting cassandra-driver\n",
      "  Downloading cassandra_driver-3.25.0-cp37-cp37m-manylinux1_x86_64.whl (3.8 MB)\n",
      "\u001b[K     |████████████████████████████████| 3.8 MB 331 kB/s eta 0:00:01\n",
      "\u001b[?25hRequirement already satisfied: six>=1.9 in /home/aditya/anaconda3/lib/python3.7/site-packages (from cassandra-driver) (1.14.0)\n",
      "Collecting geomet<0.3,>=0.1\n",
      "  Using cached geomet-0.2.1.post1-py3-none-any.whl (18 kB)\n",
      "Requirement already satisfied: click in /home/aditya/anaconda3/lib/python3.7/site-packages (from geomet<0.3,>=0.1->cassandra-driver) (7.0)\n",
      "Installing collected packages: geomet, cassandra-driver\n",
      "Successfully installed cassandra-driver-3.25.0 geomet-0.2.1.post1\n",
      "Note: you may need to restart the kernel to use updated packages.\n"
     ]
    }
   ],
   "source": [
    "pip install cassandra-driver\n"
   ]
  },
  {
   "cell_type": "code",
   "execution_count": null,
   "metadata": {},
   "outputs": [],
   "source": [
    "self.session.execute(\"CREATE TABLE concentration_of_lc50.qsar_fish_toxicity(Unnamed  int PRIMARY KEY,CIC0 float, SM1_Dz float, GATS1i float,NdsCH float,NdssC float, MLOGP float, LC50 float );\")"
   ]
  },
  {
   "cell_type": "code",
   "execution_count": 4,
   "metadata": {},
   "outputs": [
    {
     "data": {
      "text/plain": [
       "float"
      ]
     },
     "execution_count": 4,
     "metadata": {},
     "output_type": "execute_result"
    }
   ],
   "source": [
    "type(23.2)"
   ]
  },
  {
   "cell_type": "code",
   "execution_count": 7,
   "metadata": {},
   "outputs": [
    {
     "data": {
      "text/plain": [
       "<cassandra.cluster.ResultSet at 0x7f2a96fc4bd0>"
      ]
     },
     "execution_count": 7,
     "metadata": {},
     "output_type": "execute_result"
    }
   ],
   "source": [
    "session.execute(\"CREATE TABLE train_data.abc(subhash int PRIMARY KEY,adi text,arif float);\")"
   ]
  },
  {
   "cell_type": "code",
   "execution_count": null,
   "metadata": {},
   "outputs": [],
   "source": []
  },
  {
   "cell_type": "code",
   "execution_count": 8,
   "metadata": {},
   "outputs": [],
   "source": [
    "import pandas as pd"
   ]
  },
  {
   "cell_type": "code",
   "execution_count": 10,
   "metadata": {},
   "outputs": [
    {
     "data": {
      "text/html": [
       "<div>\n",
       "<style scoped>\n",
       "    .dataframe tbody tr th:only-of-type {\n",
       "        vertical-align: middle;\n",
       "    }\n",
       "\n",
       "    .dataframe tbody tr th {\n",
       "        vertical-align: top;\n",
       "    }\n",
       "\n",
       "    .dataframe thead th {\n",
       "        text-align: right;\n",
       "    }\n",
       "</style>\n",
       "<table border=\"1\" class=\"dataframe\">\n",
       "  <thead>\n",
       "    <tr style=\"text-align: right;\">\n",
       "      <th></th>\n",
       "      <th>Unnamed: 0</th>\n",
       "      <th>Unnamed: 0.1</th>\n",
       "      <th>unit_ID</th>\n",
       "      <th>cycles</th>\n",
       "      <th>setting_1</th>\n",
       "      <th>setting_2</th>\n",
       "      <th>setting_3</th>\n",
       "      <th>T2</th>\n",
       "      <th>T24</th>\n",
       "      <th>T30</th>\n",
       "      <th>...</th>\n",
       "      <th>NRc</th>\n",
       "      <th>BPR</th>\n",
       "      <th>farB</th>\n",
       "      <th>htBleed</th>\n",
       "      <th>Nf_dmd</th>\n",
       "      <th>PCNfR_dmd</th>\n",
       "      <th>W31</th>\n",
       "      <th>W32</th>\n",
       "      <th>failure</th>\n",
       "      <th>RUL</th>\n",
       "    </tr>\n",
       "  </thead>\n",
       "  <tbody>\n",
       "    <tr>\n",
       "      <th>0</th>\n",
       "      <td>0</td>\n",
       "      <td>0</td>\n",
       "      <td>1</td>\n",
       "      <td>1</td>\n",
       "      <td>42.0049</td>\n",
       "      <td>0.8400</td>\n",
       "      <td>100.0</td>\n",
       "      <td>445.00</td>\n",
       "      <td>549.68</td>\n",
       "      <td>1343.43</td>\n",
       "      <td>...</td>\n",
       "      <td>8074.83</td>\n",
       "      <td>9.3335</td>\n",
       "      <td>0.02</td>\n",
       "      <td>330</td>\n",
       "      <td>2212</td>\n",
       "      <td>100.00</td>\n",
       "      <td>10.62</td>\n",
       "      <td>6.3670</td>\n",
       "      <td>321</td>\n",
       "      <td>320</td>\n",
       "    </tr>\n",
       "    <tr>\n",
       "      <th>1</th>\n",
       "      <td>1</td>\n",
       "      <td>1</td>\n",
       "      <td>1</td>\n",
       "      <td>2</td>\n",
       "      <td>20.0020</td>\n",
       "      <td>0.7002</td>\n",
       "      <td>100.0</td>\n",
       "      <td>491.19</td>\n",
       "      <td>606.07</td>\n",
       "      <td>1477.61</td>\n",
       "      <td>...</td>\n",
       "      <td>8046.13</td>\n",
       "      <td>9.1913</td>\n",
       "      <td>0.02</td>\n",
       "      <td>361</td>\n",
       "      <td>2324</td>\n",
       "      <td>100.00</td>\n",
       "      <td>24.37</td>\n",
       "      <td>14.6552</td>\n",
       "      <td>321</td>\n",
       "      <td>319</td>\n",
       "    </tr>\n",
       "    <tr>\n",
       "      <th>2</th>\n",
       "      <td>2</td>\n",
       "      <td>2</td>\n",
       "      <td>1</td>\n",
       "      <td>3</td>\n",
       "      <td>42.0038</td>\n",
       "      <td>0.8409</td>\n",
       "      <td>100.0</td>\n",
       "      <td>445.00</td>\n",
       "      <td>548.95</td>\n",
       "      <td>1343.12</td>\n",
       "      <td>...</td>\n",
       "      <td>8066.62</td>\n",
       "      <td>9.4007</td>\n",
       "      <td>0.02</td>\n",
       "      <td>329</td>\n",
       "      <td>2212</td>\n",
       "      <td>100.00</td>\n",
       "      <td>10.48</td>\n",
       "      <td>6.4213</td>\n",
       "      <td>321</td>\n",
       "      <td>318</td>\n",
       "    </tr>\n",
       "    <tr>\n",
       "      <th>3</th>\n",
       "      <td>3</td>\n",
       "      <td>3</td>\n",
       "      <td>1</td>\n",
       "      <td>4</td>\n",
       "      <td>42.0000</td>\n",
       "      <td>0.8400</td>\n",
       "      <td>100.0</td>\n",
       "      <td>445.00</td>\n",
       "      <td>548.70</td>\n",
       "      <td>1341.24</td>\n",
       "      <td>...</td>\n",
       "      <td>8076.05</td>\n",
       "      <td>9.3369</td>\n",
       "      <td>0.02</td>\n",
       "      <td>328</td>\n",
       "      <td>2212</td>\n",
       "      <td>100.00</td>\n",
       "      <td>10.54</td>\n",
       "      <td>6.4176</td>\n",
       "      <td>321</td>\n",
       "      <td>317</td>\n",
       "    </tr>\n",
       "    <tr>\n",
       "      <th>4</th>\n",
       "      <td>4</td>\n",
       "      <td>4</td>\n",
       "      <td>1</td>\n",
       "      <td>5</td>\n",
       "      <td>25.0063</td>\n",
       "      <td>0.6207</td>\n",
       "      <td>60.0</td>\n",
       "      <td>462.54</td>\n",
       "      <td>536.10</td>\n",
       "      <td>1255.23</td>\n",
       "      <td>...</td>\n",
       "      <td>7865.80</td>\n",
       "      <td>10.8366</td>\n",
       "      <td>0.02</td>\n",
       "      <td>305</td>\n",
       "      <td>1915</td>\n",
       "      <td>84.93</td>\n",
       "      <td>14.03</td>\n",
       "      <td>8.6754</td>\n",
       "      <td>321</td>\n",
       "      <td>316</td>\n",
       "    </tr>\n",
       "    <tr>\n",
       "      <th>...</th>\n",
       "      <td>...</td>\n",
       "      <td>...</td>\n",
       "      <td>...</td>\n",
       "      <td>...</td>\n",
       "      <td>...</td>\n",
       "      <td>...</td>\n",
       "      <td>...</td>\n",
       "      <td>...</td>\n",
       "      <td>...</td>\n",
       "      <td>...</td>\n",
       "      <td>...</td>\n",
       "      <td>...</td>\n",
       "      <td>...</td>\n",
       "      <td>...</td>\n",
       "      <td>...</td>\n",
       "      <td>...</td>\n",
       "      <td>...</td>\n",
       "      <td>...</td>\n",
       "      <td>...</td>\n",
       "      <td>...</td>\n",
       "      <td>...</td>\n",
       "    </tr>\n",
       "    <tr>\n",
       "      <th>160354</th>\n",
       "      <td>160354</td>\n",
       "      <td>53754</td>\n",
       "      <td>260</td>\n",
       "      <td>312</td>\n",
       "      <td>20.0037</td>\n",
       "      <td>0.7000</td>\n",
       "      <td>100.0</td>\n",
       "      <td>491.19</td>\n",
       "      <td>608.79</td>\n",
       "      <td>1495.60</td>\n",
       "      <td>...</td>\n",
       "      <td>8169.64</td>\n",
       "      <td>9.3035</td>\n",
       "      <td>0.03</td>\n",
       "      <td>369</td>\n",
       "      <td>2324</td>\n",
       "      <td>100.00</td>\n",
       "      <td>24.36</td>\n",
       "      <td>14.5189</td>\n",
       "      <td>316</td>\n",
       "      <td>4</td>\n",
       "    </tr>\n",
       "    <tr>\n",
       "      <th>160355</th>\n",
       "      <td>160355</td>\n",
       "      <td>53755</td>\n",
       "      <td>260</td>\n",
       "      <td>313</td>\n",
       "      <td>10.0022</td>\n",
       "      <td>0.2510</td>\n",
       "      <td>100.0</td>\n",
       "      <td>489.05</td>\n",
       "      <td>605.81</td>\n",
       "      <td>1514.32</td>\n",
       "      <td>...</td>\n",
       "      <td>8245.36</td>\n",
       "      <td>8.7586</td>\n",
       "      <td>0.03</td>\n",
       "      <td>374</td>\n",
       "      <td>2319</td>\n",
       "      <td>100.00</td>\n",
       "      <td>28.10</td>\n",
       "      <td>16.9454</td>\n",
       "      <td>316</td>\n",
       "      <td>3</td>\n",
       "    </tr>\n",
       "    <tr>\n",
       "      <th>160356</th>\n",
       "      <td>160356</td>\n",
       "      <td>53756</td>\n",
       "      <td>260</td>\n",
       "      <td>314</td>\n",
       "      <td>25.0041</td>\n",
       "      <td>0.6200</td>\n",
       "      <td>60.0</td>\n",
       "      <td>462.54</td>\n",
       "      <td>537.48</td>\n",
       "      <td>1276.24</td>\n",
       "      <td>...</td>\n",
       "      <td>7971.25</td>\n",
       "      <td>11.0657</td>\n",
       "      <td>0.02</td>\n",
       "      <td>310</td>\n",
       "      <td>1915</td>\n",
       "      <td>84.93</td>\n",
       "      <td>14.19</td>\n",
       "      <td>8.5503</td>\n",
       "      <td>316</td>\n",
       "      <td>2</td>\n",
       "    </tr>\n",
       "    <tr>\n",
       "      <th>160357</th>\n",
       "      <td>160357</td>\n",
       "      <td>53757</td>\n",
       "      <td>260</td>\n",
       "      <td>315</td>\n",
       "      <td>25.0033</td>\n",
       "      <td>0.6220</td>\n",
       "      <td>60.0</td>\n",
       "      <td>462.54</td>\n",
       "      <td>537.84</td>\n",
       "      <td>1272.95</td>\n",
       "      <td>...</td>\n",
       "      <td>7972.47</td>\n",
       "      <td>11.0537</td>\n",
       "      <td>0.02</td>\n",
       "      <td>311</td>\n",
       "      <td>1915</td>\n",
       "      <td>84.93</td>\n",
       "      <td>14.05</td>\n",
       "      <td>8.3729</td>\n",
       "      <td>316</td>\n",
       "      <td>1</td>\n",
       "    </tr>\n",
       "    <tr>\n",
       "      <th>160358</th>\n",
       "      <td>160358</td>\n",
       "      <td>53758</td>\n",
       "      <td>260</td>\n",
       "      <td>316</td>\n",
       "      <td>35.0036</td>\n",
       "      <td>0.8400</td>\n",
       "      <td>100.0</td>\n",
       "      <td>449.44</td>\n",
       "      <td>556.64</td>\n",
       "      <td>1374.61</td>\n",
       "      <td>...</td>\n",
       "      <td>8185.35</td>\n",
       "      <td>9.3998</td>\n",
       "      <td>0.02</td>\n",
       "      <td>338</td>\n",
       "      <td>2223</td>\n",
       "      <td>100.00</td>\n",
       "      <td>14.75</td>\n",
       "      <td>8.8446</td>\n",
       "      <td>316</td>\n",
       "      <td>0</td>\n",
       "    </tr>\n",
       "  </tbody>\n",
       "</table>\n",
       "<p>160359 rows × 30 columns</p>\n",
       "</div>"
      ],
      "text/plain": [
       "        Unnamed: 0  Unnamed: 0.1  unit_ID  cycles  setting_1  setting_2  \\\n",
       "0                0             0        1       1    42.0049     0.8400   \n",
       "1                1             1        1       2    20.0020     0.7002   \n",
       "2                2             2        1       3    42.0038     0.8409   \n",
       "3                3             3        1       4    42.0000     0.8400   \n",
       "4                4             4        1       5    25.0063     0.6207   \n",
       "...            ...           ...      ...     ...        ...        ...   \n",
       "160354      160354         53754      260     312    20.0037     0.7000   \n",
       "160355      160355         53755      260     313    10.0022     0.2510   \n",
       "160356      160356         53756      260     314    25.0041     0.6200   \n",
       "160357      160357         53757      260     315    25.0033     0.6220   \n",
       "160358      160358         53758      260     316    35.0036     0.8400   \n",
       "\n",
       "        setting_3      T2     T24      T30  ...      NRc      BPR  farB  \\\n",
       "0           100.0  445.00  549.68  1343.43  ...  8074.83   9.3335  0.02   \n",
       "1           100.0  491.19  606.07  1477.61  ...  8046.13   9.1913  0.02   \n",
       "2           100.0  445.00  548.95  1343.12  ...  8066.62   9.4007  0.02   \n",
       "3           100.0  445.00  548.70  1341.24  ...  8076.05   9.3369  0.02   \n",
       "4            60.0  462.54  536.10  1255.23  ...  7865.80  10.8366  0.02   \n",
       "...           ...     ...     ...      ...  ...      ...      ...   ...   \n",
       "160354      100.0  491.19  608.79  1495.60  ...  8169.64   9.3035  0.03   \n",
       "160355      100.0  489.05  605.81  1514.32  ...  8245.36   8.7586  0.03   \n",
       "160356       60.0  462.54  537.48  1276.24  ...  7971.25  11.0657  0.02   \n",
       "160357       60.0  462.54  537.84  1272.95  ...  7972.47  11.0537  0.02   \n",
       "160358      100.0  449.44  556.64  1374.61  ...  8185.35   9.3998  0.02   \n",
       "\n",
       "        htBleed  Nf_dmd  PCNfR_dmd    W31      W32  failure  RUL  \n",
       "0           330    2212     100.00  10.62   6.3670      321  320  \n",
       "1           361    2324     100.00  24.37  14.6552      321  319  \n",
       "2           329    2212     100.00  10.48   6.4213      321  318  \n",
       "3           328    2212     100.00  10.54   6.4176      321  317  \n",
       "4           305    1915      84.93  14.03   8.6754      321  316  \n",
       "...         ...     ...        ...    ...      ...      ...  ...  \n",
       "160354      369    2324     100.00  24.36  14.5189      316    4  \n",
       "160355      374    2319     100.00  28.10  16.9454      316    3  \n",
       "160356      310    1915      84.93  14.19   8.5503      316    2  \n",
       "160357      311    1915      84.93  14.05   8.3729      316    1  \n",
       "160358      338    2223     100.00  14.75   8.8446      316    0  \n",
       "\n",
       "[160359 rows x 30 columns]"
      ]
     },
     "execution_count": 10,
     "metadata": {},
     "output_type": "execute_result"
    }
   ],
   "source": [
    "df=pd.read_csv(\"Total_Train_Data.csv\")\n",
    "df"
   ]
  },
  {
   "cell_type": "code",
   "execution_count": 13,
   "metadata": {},
   "outputs": [
    {
     "data": {
      "text/plain": [
       "Index(['Unnamed: 0', 'Unnamed: 0.1', 'unit_ID', 'cycles', 'setting_1',\n",
       "       'setting_2', 'setting_3', 'T2', 'T24', 'T30', 'T50', 'P2', 'P15', 'P30',\n",
       "       'Nf', 'Nc', 'epr', 'Ps30', 'phi', 'NRf', 'NRc', 'BPR', 'farB',\n",
       "       'htBleed', 'Nf_dmd', 'PCNfR_dmd', 'W31', 'W32', 'failure', 'RUL'],\n",
       "      dtype='object')"
      ]
     },
     "execution_count": 13,
     "metadata": {},
     "output_type": "execute_result"
    }
   ],
   "source": [
    "column_list=df.columns\n",
    "column_list"
   ]
  },
  {
   "cell_type": "code",
   "execution_count": 22,
   "metadata": {},
   "outputs": [
    {
     "data": {
      "text/plain": [
       "dtype('int64')"
      ]
     },
     "execution_count": 22,
     "metadata": {},
     "output_type": "execute_result"
    }
   ],
   "source": [
    "df['RUL'].dtype"
   ]
  },
  {
   "cell_type": "code",
   "execution_count": 16,
   "metadata": {},
   "outputs": [],
   "source": [
    "dtype_list=[]\n",
    "for i in column_list:\n",
    "    a=df[i].dtype\n",
    "    dtype_list.append(a)"
   ]
  },
  {
   "cell_type": "code",
   "execution_count": 18,
   "metadata": {},
   "outputs": [
    {
     "data": {
      "text/plain": [
       "30"
      ]
     },
     "execution_count": 18,
     "metadata": {},
     "output_type": "execute_result"
    }
   ],
   "source": [
    "len(dtype_list)"
   ]
  },
  {
   "cell_type": "code",
   "execution_count": 23,
   "metadata": {},
   "outputs": [
    {
     "data": {
      "text/plain": [
       "dtype('int64')"
      ]
     },
     "execution_count": 23,
     "metadata": {},
     "output_type": "execute_result"
    }
   ],
   "source": [
    "dtype_list[0]"
   ]
  },
  {
   "cell_type": "code",
   "execution_count": null,
   "metadata": {},
   "outputs": [],
   "source": []
  },
  {
   "cell_type": "code",
   "execution_count": null,
   "metadata": {},
   "outputs": [],
   "source": []
  },
  {
   "cell_type": "code",
   "execution_count": 26,
   "metadata": {},
   "outputs": [
    {
     "name": "stdout",
     "output_type": "stream",
     "text": [
      "Unnamed: 0\n",
      "int64\n",
      "Unnamed: 0.1\n",
      "int64\n",
      "unit_ID\n",
      "int64\n",
      "cycles\n",
      "int64\n",
      "setting_1\n",
      "float64\n",
      "setting_2\n",
      "float64\n",
      "setting_3\n",
      "float64\n",
      "T2\n",
      "float64\n",
      "T24\n",
      "float64\n",
      "T30\n",
      "float64\n",
      "T50\n",
      "float64\n",
      "P2\n",
      "float64\n",
      "P15\n",
      "float64\n",
      "P30\n",
      "float64\n",
      "Nf\n",
      "float64\n",
      "Nc\n",
      "float64\n",
      "epr\n",
      "float64\n",
      "Ps30\n",
      "float64\n",
      "phi\n",
      "float64\n",
      "NRf\n",
      "float64\n",
      "NRc\n",
      "float64\n",
      "BPR\n",
      "float64\n",
      "farB\n",
      "float64\n",
      "htBleed\n",
      "int64\n",
      "Nf_dmd\n",
      "int64\n",
      "PCNfR_dmd\n",
      "float64\n",
      "W31\n",
      "float64\n",
      "W32\n",
      "float64\n",
      "failure\n",
      "int64\n",
      "RUL\n",
      "int64\n"
     ]
    }
   ],
   "source": [
    "\n",
    "for i in range(len(column_list)):\n",
    "    a=column_list[i]\n",
    "#     print(a)\n",
    "    b=dtype_list[i]\n",
    "#     print(b)\n",
    "\n"
   ]
  },
  {
   "cell_type": "code",
   "execution_count": null,
   "metadata": {},
   "outputs": [],
   "source": []
  },
  {
   "cell_type": "code",
   "execution_count": null,
   "metadata": {},
   "outputs": [],
   "source": []
  },
  {
   "cell_type": "code",
   "execution_count": null,
   "metadata": {},
   "outputs": [],
   "source": [
    "session.execute(\"\")"
   ]
  }
 ],
 "metadata": {
  "kernelspec": {
   "display_name": "Python 3",
   "language": "python",
   "name": "python3"
  },
  "language_info": {
   "codemirror_mode": {
    "name": "ipython",
    "version": 3
   },
   "file_extension": ".py",
   "mimetype": "text/x-python",
   "name": "python",
   "nbconvert_exporter": "python",
   "pygments_lexer": "ipython3",
   "version": "3.7.6"
  }
 },
 "nbformat": 4,
 "nbformat_minor": 4
}
