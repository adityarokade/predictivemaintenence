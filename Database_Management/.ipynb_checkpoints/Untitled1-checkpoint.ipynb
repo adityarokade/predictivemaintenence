{
 "cells": [
  {
   "cell_type": "code",
   "execution_count": 3,
   "metadata": {},
   "outputs": [],
   "source": [
    "from cassandra.cluster import Cluster\n",
    "from cassandra.auth import PlainTextAuthProvider\n"
   ]
  },
  {
   "cell_type": "code",
   "execution_count": 14,
   "metadata": {},
   "outputs": [
    {
     "name": "stdout",
     "output_type": "stream",
     "text": [
      "4.0.0.6816\n"
     ]
    }
   ],
   "source": [
    "\n",
    "cloud_config= {\n",
    "        'secure_connect_bundle':'secure-connect-predictive-maintenence.zip'\n",
    "}\n",
    "auth_provider = PlainTextAuthProvider('TwftYiLLzOPdWfCjSuKRWGcj', 'N30vWjycqEiRHlUq7-q.gC5bHLM0xfUWmB_S5W8zoBNjzGZCOta1M3ZIbPLun3mPkypoG7d9CmBop40acOX1ZhTXc+ipoBh7IT_umeDwZS8sj4+Ki9nXAw0,Wc72pX,H')\n",
    "cluster = Cluster(cloud=cloud_config, auth_provider=auth_provider)\n",
    "session = cluster.connect()\n",
    "\n",
    "row = session.execute(\"select release_version from system.local\").one()\n",
    "if row:\n",
    "    print(row[0])\n",
    "else:\n",
    "    print(\"An error occurred.\")"
   ]
  },
  {
   "cell_type": "code",
   "execution_count": null,
   "metadata": {},
   "outputs": [],
   "source": []
  },
  {
   "cell_type": "code",
   "execution_count": null,
   "metadata": {},
   "outputs": [],
   "source": []
  },
  {
   "cell_type": "code",
   "execution_count": 15,
   "metadata": {},
   "outputs": [],
   "source": [
    "import pandas as pd"
   ]
  },
  {
   "cell_type": "code",
   "execution_count": 16,
   "metadata": {
    "scrolled": true
   },
   "outputs": [
    {
     "data": {
      "text/html": [
       "<div>\n",
       "<style scoped>\n",
       "    .dataframe tbody tr th:only-of-type {\n",
       "        vertical-align: middle;\n",
       "    }\n",
       "\n",
       "    .dataframe tbody tr th {\n",
       "        vertical-align: top;\n",
       "    }\n",
       "\n",
       "    .dataframe thead th {\n",
       "        text-align: right;\n",
       "    }\n",
       "</style>\n",
       "<table border=\"1\" class=\"dataframe\">\n",
       "  <thead>\n",
       "    <tr style=\"text-align: right;\">\n",
       "      <th></th>\n",
       "      <th>Unnamed: 0</th>\n",
       "      <th>Unnamed: 0.1</th>\n",
       "      <th>unit_ID</th>\n",
       "      <th>cycles</th>\n",
       "      <th>setting_1</th>\n",
       "      <th>setting_2</th>\n",
       "      <th>setting_3</th>\n",
       "      <th>T2</th>\n",
       "      <th>T24</th>\n",
       "      <th>T30</th>\n",
       "      <th>...</th>\n",
       "      <th>NRc</th>\n",
       "      <th>BPR</th>\n",
       "      <th>farB</th>\n",
       "      <th>htBleed</th>\n",
       "      <th>Nf_dmd</th>\n",
       "      <th>PCNfR_dmd</th>\n",
       "      <th>W31</th>\n",
       "      <th>W32</th>\n",
       "      <th>failure</th>\n",
       "      <th>RUL</th>\n",
       "    </tr>\n",
       "  </thead>\n",
       "  <tbody>\n",
       "    <tr>\n",
       "      <th>0</th>\n",
       "      <td>0</td>\n",
       "      <td>0</td>\n",
       "      <td>1</td>\n",
       "      <td>1</td>\n",
       "      <td>42.0049</td>\n",
       "      <td>0.8400</td>\n",
       "      <td>100.0</td>\n",
       "      <td>445.00</td>\n",
       "      <td>549.68</td>\n",
       "      <td>1343.43</td>\n",
       "      <td>...</td>\n",
       "      <td>8074.83</td>\n",
       "      <td>9.3335</td>\n",
       "      <td>0.02</td>\n",
       "      <td>330</td>\n",
       "      <td>2212</td>\n",
       "      <td>100.00</td>\n",
       "      <td>10.62</td>\n",
       "      <td>6.3670</td>\n",
       "      <td>321</td>\n",
       "      <td>320</td>\n",
       "    </tr>\n",
       "    <tr>\n",
       "      <th>1</th>\n",
       "      <td>1</td>\n",
       "      <td>1</td>\n",
       "      <td>1</td>\n",
       "      <td>2</td>\n",
       "      <td>20.0020</td>\n",
       "      <td>0.7002</td>\n",
       "      <td>100.0</td>\n",
       "      <td>491.19</td>\n",
       "      <td>606.07</td>\n",
       "      <td>1477.61</td>\n",
       "      <td>...</td>\n",
       "      <td>8046.13</td>\n",
       "      <td>9.1913</td>\n",
       "      <td>0.02</td>\n",
       "      <td>361</td>\n",
       "      <td>2324</td>\n",
       "      <td>100.00</td>\n",
       "      <td>24.37</td>\n",
       "      <td>14.6552</td>\n",
       "      <td>321</td>\n",
       "      <td>319</td>\n",
       "    </tr>\n",
       "    <tr>\n",
       "      <th>2</th>\n",
       "      <td>2</td>\n",
       "      <td>2</td>\n",
       "      <td>1</td>\n",
       "      <td>3</td>\n",
       "      <td>42.0038</td>\n",
       "      <td>0.8409</td>\n",
       "      <td>100.0</td>\n",
       "      <td>445.00</td>\n",
       "      <td>548.95</td>\n",
       "      <td>1343.12</td>\n",
       "      <td>...</td>\n",
       "      <td>8066.62</td>\n",
       "      <td>9.4007</td>\n",
       "      <td>0.02</td>\n",
       "      <td>329</td>\n",
       "      <td>2212</td>\n",
       "      <td>100.00</td>\n",
       "      <td>10.48</td>\n",
       "      <td>6.4213</td>\n",
       "      <td>321</td>\n",
       "      <td>318</td>\n",
       "    </tr>\n",
       "    <tr>\n",
       "      <th>3</th>\n",
       "      <td>3</td>\n",
       "      <td>3</td>\n",
       "      <td>1</td>\n",
       "      <td>4</td>\n",
       "      <td>42.0000</td>\n",
       "      <td>0.8400</td>\n",
       "      <td>100.0</td>\n",
       "      <td>445.00</td>\n",
       "      <td>548.70</td>\n",
       "      <td>1341.24</td>\n",
       "      <td>...</td>\n",
       "      <td>8076.05</td>\n",
       "      <td>9.3369</td>\n",
       "      <td>0.02</td>\n",
       "      <td>328</td>\n",
       "      <td>2212</td>\n",
       "      <td>100.00</td>\n",
       "      <td>10.54</td>\n",
       "      <td>6.4176</td>\n",
       "      <td>321</td>\n",
       "      <td>317</td>\n",
       "    </tr>\n",
       "    <tr>\n",
       "      <th>4</th>\n",
       "      <td>4</td>\n",
       "      <td>4</td>\n",
       "      <td>1</td>\n",
       "      <td>5</td>\n",
       "      <td>25.0063</td>\n",
       "      <td>0.6207</td>\n",
       "      <td>60.0</td>\n",
       "      <td>462.54</td>\n",
       "      <td>536.10</td>\n",
       "      <td>1255.23</td>\n",
       "      <td>...</td>\n",
       "      <td>7865.80</td>\n",
       "      <td>10.8366</td>\n",
       "      <td>0.02</td>\n",
       "      <td>305</td>\n",
       "      <td>1915</td>\n",
       "      <td>84.93</td>\n",
       "      <td>14.03</td>\n",
       "      <td>8.6754</td>\n",
       "      <td>321</td>\n",
       "      <td>316</td>\n",
       "    </tr>\n",
       "    <tr>\n",
       "      <th>...</th>\n",
       "      <td>...</td>\n",
       "      <td>...</td>\n",
       "      <td>...</td>\n",
       "      <td>...</td>\n",
       "      <td>...</td>\n",
       "      <td>...</td>\n",
       "      <td>...</td>\n",
       "      <td>...</td>\n",
       "      <td>...</td>\n",
       "      <td>...</td>\n",
       "      <td>...</td>\n",
       "      <td>...</td>\n",
       "      <td>...</td>\n",
       "      <td>...</td>\n",
       "      <td>...</td>\n",
       "      <td>...</td>\n",
       "      <td>...</td>\n",
       "      <td>...</td>\n",
       "      <td>...</td>\n",
       "      <td>...</td>\n",
       "      <td>...</td>\n",
       "    </tr>\n",
       "    <tr>\n",
       "      <th>160354</th>\n",
       "      <td>160354</td>\n",
       "      <td>53754</td>\n",
       "      <td>260</td>\n",
       "      <td>312</td>\n",
       "      <td>20.0037</td>\n",
       "      <td>0.7000</td>\n",
       "      <td>100.0</td>\n",
       "      <td>491.19</td>\n",
       "      <td>608.79</td>\n",
       "      <td>1495.60</td>\n",
       "      <td>...</td>\n",
       "      <td>8169.64</td>\n",
       "      <td>9.3035</td>\n",
       "      <td>0.03</td>\n",
       "      <td>369</td>\n",
       "      <td>2324</td>\n",
       "      <td>100.00</td>\n",
       "      <td>24.36</td>\n",
       "      <td>14.5189</td>\n",
       "      <td>316</td>\n",
       "      <td>4</td>\n",
       "    </tr>\n",
       "    <tr>\n",
       "      <th>160355</th>\n",
       "      <td>160355</td>\n",
       "      <td>53755</td>\n",
       "      <td>260</td>\n",
       "      <td>313</td>\n",
       "      <td>10.0022</td>\n",
       "      <td>0.2510</td>\n",
       "      <td>100.0</td>\n",
       "      <td>489.05</td>\n",
       "      <td>605.81</td>\n",
       "      <td>1514.32</td>\n",
       "      <td>...</td>\n",
       "      <td>8245.36</td>\n",
       "      <td>8.7586</td>\n",
       "      <td>0.03</td>\n",
       "      <td>374</td>\n",
       "      <td>2319</td>\n",
       "      <td>100.00</td>\n",
       "      <td>28.10</td>\n",
       "      <td>16.9454</td>\n",
       "      <td>316</td>\n",
       "      <td>3</td>\n",
       "    </tr>\n",
       "    <tr>\n",
       "      <th>160356</th>\n",
       "      <td>160356</td>\n",
       "      <td>53756</td>\n",
       "      <td>260</td>\n",
       "      <td>314</td>\n",
       "      <td>25.0041</td>\n",
       "      <td>0.6200</td>\n",
       "      <td>60.0</td>\n",
       "      <td>462.54</td>\n",
       "      <td>537.48</td>\n",
       "      <td>1276.24</td>\n",
       "      <td>...</td>\n",
       "      <td>7971.25</td>\n",
       "      <td>11.0657</td>\n",
       "      <td>0.02</td>\n",
       "      <td>310</td>\n",
       "      <td>1915</td>\n",
       "      <td>84.93</td>\n",
       "      <td>14.19</td>\n",
       "      <td>8.5503</td>\n",
       "      <td>316</td>\n",
       "      <td>2</td>\n",
       "    </tr>\n",
       "    <tr>\n",
       "      <th>160357</th>\n",
       "      <td>160357</td>\n",
       "      <td>53757</td>\n",
       "      <td>260</td>\n",
       "      <td>315</td>\n",
       "      <td>25.0033</td>\n",
       "      <td>0.6220</td>\n",
       "      <td>60.0</td>\n",
       "      <td>462.54</td>\n",
       "      <td>537.84</td>\n",
       "      <td>1272.95</td>\n",
       "      <td>...</td>\n",
       "      <td>7972.47</td>\n",
       "      <td>11.0537</td>\n",
       "      <td>0.02</td>\n",
       "      <td>311</td>\n",
       "      <td>1915</td>\n",
       "      <td>84.93</td>\n",
       "      <td>14.05</td>\n",
       "      <td>8.3729</td>\n",
       "      <td>316</td>\n",
       "      <td>1</td>\n",
       "    </tr>\n",
       "    <tr>\n",
       "      <th>160358</th>\n",
       "      <td>160358</td>\n",
       "      <td>53758</td>\n",
       "      <td>260</td>\n",
       "      <td>316</td>\n",
       "      <td>35.0036</td>\n",
       "      <td>0.8400</td>\n",
       "      <td>100.0</td>\n",
       "      <td>449.44</td>\n",
       "      <td>556.64</td>\n",
       "      <td>1374.61</td>\n",
       "      <td>...</td>\n",
       "      <td>8185.35</td>\n",
       "      <td>9.3998</td>\n",
       "      <td>0.02</td>\n",
       "      <td>338</td>\n",
       "      <td>2223</td>\n",
       "      <td>100.00</td>\n",
       "      <td>14.75</td>\n",
       "      <td>8.8446</td>\n",
       "      <td>316</td>\n",
       "      <td>0</td>\n",
       "    </tr>\n",
       "  </tbody>\n",
       "</table>\n",
       "<p>160359 rows × 30 columns</p>\n",
       "</div>"
      ],
      "text/plain": [
       "        Unnamed: 0  Unnamed: 0.1  unit_ID  cycles  setting_1  setting_2  \\\n",
       "0                0             0        1       1    42.0049     0.8400   \n",
       "1                1             1        1       2    20.0020     0.7002   \n",
       "2                2             2        1       3    42.0038     0.8409   \n",
       "3                3             3        1       4    42.0000     0.8400   \n",
       "4                4             4        1       5    25.0063     0.6207   \n",
       "...            ...           ...      ...     ...        ...        ...   \n",
       "160354      160354         53754      260     312    20.0037     0.7000   \n",
       "160355      160355         53755      260     313    10.0022     0.2510   \n",
       "160356      160356         53756      260     314    25.0041     0.6200   \n",
       "160357      160357         53757      260     315    25.0033     0.6220   \n",
       "160358      160358         53758      260     316    35.0036     0.8400   \n",
       "\n",
       "        setting_3      T2     T24      T30  ...      NRc      BPR  farB  \\\n",
       "0           100.0  445.00  549.68  1343.43  ...  8074.83   9.3335  0.02   \n",
       "1           100.0  491.19  606.07  1477.61  ...  8046.13   9.1913  0.02   \n",
       "2           100.0  445.00  548.95  1343.12  ...  8066.62   9.4007  0.02   \n",
       "3           100.0  445.00  548.70  1341.24  ...  8076.05   9.3369  0.02   \n",
       "4            60.0  462.54  536.10  1255.23  ...  7865.80  10.8366  0.02   \n",
       "...           ...     ...     ...      ...  ...      ...      ...   ...   \n",
       "160354      100.0  491.19  608.79  1495.60  ...  8169.64   9.3035  0.03   \n",
       "160355      100.0  489.05  605.81  1514.32  ...  8245.36   8.7586  0.03   \n",
       "160356       60.0  462.54  537.48  1276.24  ...  7971.25  11.0657  0.02   \n",
       "160357       60.0  462.54  537.84  1272.95  ...  7972.47  11.0537  0.02   \n",
       "160358      100.0  449.44  556.64  1374.61  ...  8185.35   9.3998  0.02   \n",
       "\n",
       "        htBleed  Nf_dmd  PCNfR_dmd    W31      W32  failure  RUL  \n",
       "0           330    2212     100.00  10.62   6.3670      321  320  \n",
       "1           361    2324     100.00  24.37  14.6552      321  319  \n",
       "2           329    2212     100.00  10.48   6.4213      321  318  \n",
       "3           328    2212     100.00  10.54   6.4176      321  317  \n",
       "4           305    1915      84.93  14.03   8.6754      321  316  \n",
       "...         ...     ...        ...    ...      ...      ...  ...  \n",
       "160354      369    2324     100.00  24.36  14.5189      316    4  \n",
       "160355      374    2319     100.00  28.10  16.9454      316    3  \n",
       "160356      310    1915      84.93  14.19   8.5503      316    2  \n",
       "160357      311    1915      84.93  14.05   8.3729      316    1  \n",
       "160358      338    2223     100.00  14.75   8.8446      316    0  \n",
       "\n",
       "[160359 rows x 30 columns]"
      ]
     },
     "execution_count": 16,
     "metadata": {},
     "output_type": "execute_result"
    }
   ],
   "source": [
    "df=pd.read_csv(\"Total_Train_Data.csv\")\n",
    "df"
   ]
  },
  {
   "cell_type": "code",
   "execution_count": 17,
   "metadata": {},
   "outputs": [],
   "source": [
    "df.drop(columns=['Unnamed: 0.1'],inplace=True)\n",
    "column_list=df.columns\n",
    "dtype_list=[]\n",
    "for i in column_list:\n",
    "    a=str(df[i].dtype)\n",
    "    dtype_list.append(a)"
   ]
  },
  {
   "cell_type": "code",
   "execution_count": 18,
   "metadata": {},
   "outputs": [
    {
     "data": {
      "text/plain": [
       "Index(['Unnamed: 0', 'unit_ID', 'cycles', 'setting_1', 'setting_2',\n",
       "       'setting_3', 'T2', 'T24', 'T30', 'T50', 'P2', 'P15', 'P30', 'Nf', 'Nc',\n",
       "       'epr', 'Ps30', 'phi', 'NRf', 'NRc', 'BPR', 'farB', 'htBleed', 'Nf_dmd',\n",
       "       'PCNfR_dmd', 'W31', 'W32', 'failure', 'RUL'],\n",
       "      dtype='object')"
      ]
     },
     "execution_count": 18,
     "metadata": {},
     "output_type": "execute_result"
    }
   ],
   "source": [
    "column_list"
   ]
  },
  {
   "cell_type": "code",
   "execution_count": 19,
   "metadata": {},
   "outputs": [
    {
     "data": {
      "text/plain": [
       "['int64',\n",
       " 'int64',\n",
       " 'int64',\n",
       " 'float64',\n",
       " 'float64',\n",
       " 'float64',\n",
       " 'float64',\n",
       " 'float64',\n",
       " 'float64',\n",
       " 'float64',\n",
       " 'float64',\n",
       " 'float64',\n",
       " 'float64',\n",
       " 'float64',\n",
       " 'float64',\n",
       " 'float64',\n",
       " 'float64',\n",
       " 'float64',\n",
       " 'float64',\n",
       " 'float64',\n",
       " 'float64',\n",
       " 'float64',\n",
       " 'int64',\n",
       " 'int64',\n",
       " 'float64',\n",
       " 'float64',\n",
       " 'float64',\n",
       " 'int64',\n",
       " 'int64']"
      ]
     },
     "execution_count": 19,
     "metadata": {},
     "output_type": "execute_result"
    }
   ],
   "source": [
    "dtype_list"
   ]
  },
  {
   "cell_type": "code",
   "execution_count": 20,
   "metadata": {},
   "outputs": [],
   "source": [
    "list_total=[]\n",
    "\n",
    "for i in range(len(column_list)):\n",
    "    a=column_list[i]\n",
    "    a=a.replace(\" \",\"\").replace(\":\",\"\")\n",
    "    \n",
    "    \n",
    "    b=dtype_list[i]\n",
    "    list_total.append(a)\n",
    "    if b  in ['float8','float16','float32','float64']:\n",
    "        c='float'\n",
    "        list_total.append(c)\n",
    "    if b  in ['int8','int16','int32','int64']:\n",
    "        c='int'\n",
    "        list_total.append(c)\n",
    "        \n",
    "    \n",
    "    \n",
    "    \n",
    "    if a==\"Unnamed0\":\n",
    "        list_total.append(\"PRIMARY KEY\")\n",
    "    list_total.append(',')"
   ]
  },
  {
   "cell_type": "code",
   "execution_count": 21,
   "metadata": {},
   "outputs": [
    {
     "data": {
      "text/plain": [
       "['Unnamed0',\n",
       " 'int',\n",
       " 'PRIMARY KEY',\n",
       " ',',\n",
       " 'unit_ID',\n",
       " 'int',\n",
       " ',',\n",
       " 'cycles',\n",
       " 'int',\n",
       " ',',\n",
       " 'setting_1',\n",
       " 'float',\n",
       " ',',\n",
       " 'setting_2',\n",
       " 'float',\n",
       " ',',\n",
       " 'setting_3',\n",
       " 'float',\n",
       " ',',\n",
       " 'T2',\n",
       " 'float',\n",
       " ',',\n",
       " 'T24',\n",
       " 'float',\n",
       " ',',\n",
       " 'T30',\n",
       " 'float',\n",
       " ',',\n",
       " 'T50',\n",
       " 'float',\n",
       " ',',\n",
       " 'P2',\n",
       " 'float',\n",
       " ',',\n",
       " 'P15',\n",
       " 'float',\n",
       " ',',\n",
       " 'P30',\n",
       " 'float',\n",
       " ',',\n",
       " 'Nf',\n",
       " 'float',\n",
       " ',',\n",
       " 'Nc',\n",
       " 'float',\n",
       " ',',\n",
       " 'epr',\n",
       " 'float',\n",
       " ',',\n",
       " 'Ps30',\n",
       " 'float',\n",
       " ',',\n",
       " 'phi',\n",
       " 'float',\n",
       " ',',\n",
       " 'NRf',\n",
       " 'float',\n",
       " ',',\n",
       " 'NRc',\n",
       " 'float',\n",
       " ',',\n",
       " 'BPR',\n",
       " 'float',\n",
       " ',',\n",
       " 'farB',\n",
       " 'float',\n",
       " ',',\n",
       " 'htBleed',\n",
       " 'int',\n",
       " ',',\n",
       " 'Nf_dmd',\n",
       " 'int',\n",
       " ',',\n",
       " 'PCNfR_dmd',\n",
       " 'float',\n",
       " ',',\n",
       " 'W31',\n",
       " 'float',\n",
       " ',',\n",
       " 'W32',\n",
       " 'float',\n",
       " ',',\n",
       " 'failure',\n",
       " 'int',\n",
       " ',',\n",
       " 'RUL',\n",
       " 'int',\n",
       " ',']"
      ]
     },
     "execution_count": 21,
     "metadata": {},
     "output_type": "execute_result"
    }
   ],
   "source": [
    " list_total"
   ]
  },
  {
   "cell_type": "code",
   "execution_count": 22,
   "metadata": {},
   "outputs": [
    {
     "data": {
      "text/plain": [
       "'CREATE TABLE train_data.abcde(Unnamed0 int PRIMARY KEY , unit_ID int , cycles int , setting_1 float , setting_2 float , setting_3 float , T2 float , T24 float , T30 float , T50 float , P2 float , P15 float , P30 float , Nf float , Nc float , epr float , Ps30 float , phi float , NRf float , NRc float , BPR float , farB float , htBleed int , Nf_dmd int , PCNfR_dmd float , W31 float , W32 float , failure int , RUL int);'"
      ]
     },
     "execution_count": 22,
     "metadata": {},
     "output_type": "execute_result"
    }
   ],
   "source": [
    "list_total.pop(-1)\n",
    "tu=\" \".join(list_total)\n",
    "aa=f\"CREATE TABLE train_data.abcde({tu});\"\n",
    "aa"
   ]
  },
  {
   "cell_type": "code",
   "execution_count": 23,
   "metadata": {},
   "outputs": [
    {
     "data": {
      "text/plain": [
       "<cassandra.cluster.ResultSet at 0x7f2c905a7350>"
      ]
     },
     "execution_count": 23,
     "metadata": {},
     "output_type": "execute_result"
    }
   ],
   "source": [
    "session.execute(aa)"
   ]
  },
  {
   "cell_type": "code",
   "execution_count": null,
   "metadata": {},
   "outputs": [],
   "source": []
  },
  {
   "cell_type": "code",
   "execution_count": null,
   "metadata": {},
   "outputs": [],
   "source": []
  },
  {
   "cell_type": "code",
   "execution_count": null,
   "metadata": {},
   "outputs": [],
   "source": [
    "with open(self.filename,'r') as data:\n",
    "    next(data)\n",
    "    data_csv= csv.reader(data,delimiter=',')\n",
    "                \n",
    "        \n",
    "    for i in data_csv:\n",
    "        self.session.execute(\"INSERT INTO concentration_of_lc50.qsar_fish_toxicity (Unnamed ,CIC0 , SM1_Dz , GATS1i ,NdsCH ,NdssC , MLOGP , LC50]) values(%s,%s,%s,%s,%s,%s,%s,%s)\",[int(i[0]),float(i[2]),float(i[3]),float(i[4]),float(i[5]),float(i[6]),float(i[7]),float(i[8])])"
   ]
  },
  {
   "cell_type": "code",
   "execution_count": 25,
   "metadata": {},
   "outputs": [],
   "source": [
    "import csv"
   ]
  },
  {
   "cell_type": "code",
   "execution_count": null,
   "metadata": {},
   "outputs": [],
   "source": []
  },
  {
   "cell_type": "code",
   "execution_count": null,
   "metadata": {},
   "outputs": [],
   "source": [
    "with open(\"Total_Train_Data.csv\",'r') as data:\n",
    "    next(data)\n",
    "    data_csv= csv.reader(data,delimiter=',')\n",
    "    for i in data_csv:\n",
    "        print(i)"
   ]
  },
  {
   "cell_type": "code",
   "execution_count": null,
   "metadata": {},
   "outputs": [],
   "source": []
  },
  {
   "cell_type": "code",
   "execution_count": 41,
   "metadata": {},
   "outputs": [
    {
     "name": "stdout",
     "output_type": "stream",
     "text": [
      "['0', '0', '1', '1', '42.0049', '0.84', '100.0', '445.0', '549.68', '1343.43', '1112.93', '3.91', '5.7', '137.36', '2211.86', '8311.32', '1.01', '41.69', '129.78', '2387.99', '8074.83', '9.3335', '0.02', '330', '2212', '100.0', '10.62', '6.367000000000001', '321', '320']\n",
      "<class 'list'>\n",
      "okk\n"
     ]
    }
   ],
   "source": [
    "with open(\"Total_Train_Data.csv\",'r') as data:\n",
    "    next(data)\n",
    "    data_csv= csv.reader(data,delimiter=',')\n",
    "    for i in data_csv:\n",
    "        print(i)\n",
    "        print(type(i))\n",
    "        print(\"okk\")\n",
    "\n",
    "        break"
   ]
  },
  {
   "cell_type": "code",
   "execution_count": 32,
   "metadata": {},
   "outputs": [
    {
     "data": {
      "text/plain": [
       "87"
      ]
     },
     "execution_count": 32,
     "metadata": {},
     "output_type": "execute_result"
    }
   ],
   "source": [
    "len(list_total)"
   ]
  },
  {
   "cell_type": "code",
   "execution_count": 33,
   "metadata": {},
   "outputs": [
    {
     "data": {
      "text/plain": [
       "29"
      ]
     },
     "execution_count": 33,
     "metadata": {},
     "output_type": "execute_result"
    }
   ],
   "source": [
    "len(df.columns)"
   ]
  },
  {
   "cell_type": "code",
   "execution_count": null,
   "metadata": {},
   "outputs": [],
   "source": [
    "data_csv= csv.reader(df,delimiter=',')\n",
    "    for i in data_csv:\n",
    "        print(i)"
   ]
  },
  {
   "cell_type": "code",
   "execution_count": null,
   "metadata": {},
   "outputs": [],
   "source": []
  },
  {
   "cell_type": "code",
   "execution_count": null,
   "metadata": {},
   "outputs": [],
   "source": []
  },
  {
   "cell_type": "code",
   "execution_count": null,
   "metadata": {},
   "outputs": [],
   "source": [
    "   self.session=session\n",
    "        self.filename=filename\n",
    "        # df=pd.read_csv(\"Total_Train_Data.csv\")\n",
    "        df=pd.read_csv(\"Total_Test_Data.csv\")\n",
    "        # df.drop(columns=['Unnamed: 0.1'],inplace=True)\n",
    "        column_list=df.columns\n",
    "        dtype_list=[]\n",
    "        for i in column_list:\n",
    "            a=str(df[i].dtype)\n",
    "            dtype_list.append(a)\n",
    "        list_total=[]\n",
    "\n",
    "        for i in range(len(column_list)):\n",
    "            a=column_list[i]\n",
    "            a1=a.replace(\" \",\"\").replace(\":\",\"\")\n",
    "    \n",
    "    \n",
    "            b=dtype_list[i]\n",
    "            list_total.append(a1)\n",
    "            if b  in ['float8','float16','float32','float64']:\n",
    "                c='float'\n",
    "                list_total.append(c)\n",
    "            if b  in ['int8','int16','int32','int64']:\n",
    "                c='int'\n",
    "                list_total.append(c)\n",
    "        \n",
    "    \n",
    "    \n",
    "    \n",
    "            if a==\"Unnamed0\":\n",
    "                list_total.append(\"PRIMARY KEY\")\n",
    "            list_total.append(',')\n",
    "        list_total.pop(-1)"
   ]
  },
  {
   "cell_type": "code",
   "execution_count": null,
   "metadata": {},
   "outputs": [],
   "source": []
  },
  {
   "cell_type": "code",
   "execution_count": 4,
   "metadata": {},
   "outputs": [],
   "source": [
    "import pandas as pd\n"
   ]
  },
  {
   "cell_type": "code",
   "execution_count": 13,
   "metadata": {},
   "outputs": [],
   "source": [
    "def Create_Table():\n",
    "    df=pd.read_csv(\"Total_Train_Data.csv\")\n",
    "#         df=pd.read_csv(self.filename)\n",
    "        # df.drop(columns=['Unnamed: 0.1'],inplace=True)\n",
    "    column_list=df.columns\n",
    "    dtype_list=[]\n",
    "    for i in column_list:\n",
    "        a=str(df[i].dtype)\n",
    "        dtype_list.append(a)\n",
    "    list_total=[]\n",
    "    \n",
    "    for i in range(len(column_list)):\n",
    "        a=column_list[i]\n",
    "        a=a.replace(\" \",\"\").replace(\":\",\"\")\n",
    "    \n",
    "    \n",
    "        b=dtype_list[i]\n",
    "        list_total.append(a)\n",
    "        if b  in ['float8','float16','float32','float64']:\n",
    "            c='float'\n",
    "            list_total.append(c)\n",
    "        if b  in ['int8','int16','int32','int64']:\n",
    "            c='int'\n",
    "            list_total.append(c)\n",
    "        \n",
    "    \n",
    "    \n",
    "    \n",
    "        if a==\"Unnamed0\":\n",
    "            list_total.append(\"PRIMARY KEY\")\n",
    "        list_total.append(',')\n",
    "    list_total.pop(-1)\n",
    "    tu=\" \".join(list_total)\n",
    "    aa=f\"CREATE TABLE train_data.train_test({tu});\"\n",
    "    print(aa)\n",
    "#     self.session.execute(aa)\n",
    "    print(\"Table created\")"
   ]
  },
  {
   "cell_type": "code",
   "execution_count": 14,
   "metadata": {},
   "outputs": [
    {
     "name": "stdout",
     "output_type": "stream",
     "text": [
      "CREATE TABLE train_data.train_test(Unnamed0 int PRIMARY KEY , Unnamed0.1 int , unit_ID int , cycles int , setting_1 float , setting_2 float , setting_3 float , T2 float , T24 float , T30 float , T50 float , P2 float , P15 float , P30 float , Nf float , Nc float , epr float , Ps30 float , phi float , NRf float , NRc float , BPR float , farB float , htBleed int , Nf_dmd int , PCNfR_dmd float , W31 float , W32 float , failure int , RUL int);\n",
      "Table created\n"
     ]
    }
   ],
   "source": [
    "Create_Table()"
   ]
  },
  {
   "cell_type": "code",
   "execution_count": null,
   "metadata": {},
   "outputs": [],
   "source": [
    "def Create_Table():\n",
    "    df=pd.read_csv(\"Total_Test_Data.csv\")\n",
    "#         df=pd.read_csv(self.filename)\n",
    "        # df.drop(columns=['Unnamed: 0.1'],inplace=True)\n",
    "    column_list=df.columns\n",
    "    dtype_list=[]\n",
    "    for i in column_list:\n",
    "        a=str(df[i].dtype)\n",
    "        dtype_list.append(a)\n",
    "    list_total=[]\n",
    "    \n",
    "    for i in range(len(column_list)):\n",
    "        a=column_list[i]\n",
    "        a=a.replace(\" \",\"\").replace(\":\",\"\")\n",
    "    \n",
    "    \n",
    "        b=dtype_list[i]\n",
    "        list_total.append(a)\n",
    "        if b  in ['float8','float16','float32','float64']:\n",
    "            c='float'\n",
    "            list_total.append(c)\n",
    "        if b  in ['int8','int16','int32','int64']:\n",
    "            c='int'\n",
    "            list_total.append(c)\n",
    "        \n",
    "    \n",
    "    \n",
    "    \n",
    "        if a==\"Unnamed0\":\n",
    "            list_total.append(\"PRIMARY KEY\")\n",
    "        list_total.append(',')\n",
    "    list_total.pop(-1)\n",
    "    tu=\" \".join(list_total)\n",
    "    aa=f\"CREATE TABLE train_data.train_test({tu});\"\n",
    "    print(aa)\n",
    "#     self.session.execute(aa)\n",
    "    print(\"Table created\")"
   ]
  }
 ],
 "metadata": {
  "kernelspec": {
   "display_name": "Python 3",
   "language": "python",
   "name": "python3"
  },
  "language_info": {
   "codemirror_mode": {
    "name": "ipython",
    "version": 3
   },
   "file_extension": ".py",
   "mimetype": "text/x-python",
   "name": "python",
   "nbconvert_exporter": "python",
   "pygments_lexer": "ipython3",
   "version": "3.7.6"
  }
 },
 "nbformat": 4,
 "nbformat_minor": 4
}
